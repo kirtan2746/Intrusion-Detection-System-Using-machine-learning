{
 "cells": [
  {
   "cell_type": "code",
   "execution_count": 1,
   "metadata": {},
   "outputs": [
    {
     "name": "stdout",
     "output_type": "stream",
     "text": [
      "(225745, 79)\n",
      "(286467, 79)\n",
      "(191033, 79)\n",
      "(529918, 79)\n",
      "(288602, 79)\n",
      "(170366, 79)\n",
      "(445909, 79)\n",
      "(692703, 79)\n",
      "Read 2830743 rows.\n"
     ]
    },
    {
     "data": {
      "text/html": [
       "<div>\n",
       "<style scoped>\n",
       "    .dataframe tbody tr th:only-of-type {\n",
       "        vertical-align: middle;\n",
       "    }\n",
       "\n",
       "    .dataframe tbody tr th {\n",
       "        vertical-align: top;\n",
       "    }\n",
       "\n",
       "    .dataframe thead th {\n",
       "        text-align: right;\n",
       "    }\n",
       "</style>\n",
       "<table border=\"1\" class=\"dataframe\">\n",
       "  <thead>\n",
       "    <tr style=\"text-align: right;\">\n",
       "      <th></th>\n",
       "      <th>Destination Port</th>\n",
       "      <th>Flow Duration</th>\n",
       "      <th>...</th>\n",
       "      <th>Idle Min</th>\n",
       "      <th>Label</th>\n",
       "    </tr>\n",
       "  </thead>\n",
       "  <tbody>\n",
       "    <tr>\n",
       "      <th>0</th>\n",
       "      <td>54865</td>\n",
       "      <td>3</td>\n",
       "      <td>...</td>\n",
       "      <td>0</td>\n",
       "      <td>BENIGN</td>\n",
       "    </tr>\n",
       "    <tr>\n",
       "      <th>1</th>\n",
       "      <td>55054</td>\n",
       "      <td>109</td>\n",
       "      <td>...</td>\n",
       "      <td>0</td>\n",
       "      <td>BENIGN</td>\n",
       "    </tr>\n",
       "    <tr>\n",
       "      <th>2</th>\n",
       "      <td>55055</td>\n",
       "      <td>52</td>\n",
       "      <td>...</td>\n",
       "      <td>0</td>\n",
       "      <td>BENIGN</td>\n",
       "    </tr>\n",
       "    <tr>\n",
       "      <th>3</th>\n",
       "      <td>46236</td>\n",
       "      <td>34</td>\n",
       "      <td>...</td>\n",
       "      <td>0</td>\n",
       "      <td>BENIGN</td>\n",
       "    </tr>\n",
       "    <tr>\n",
       "      <th>4</th>\n",
       "      <td>54863</td>\n",
       "      <td>3</td>\n",
       "      <td>...</td>\n",
       "      <td>0</td>\n",
       "      <td>BENIGN</td>\n",
       "    </tr>\n",
       "  </tbody>\n",
       "</table>\n",
       "<p>5 rows × 79 columns</p>\n",
       "</div>"
      ],
      "text/plain": [
       "    Destination Port   Flow Duration  ...   Idle Min   Label\n",
       "0              54865               3  ...          0  BENIGN\n",
       "1              55054             109  ...          0  BENIGN\n",
       "2              55055              52  ...          0  BENIGN\n",
       "3              46236              34  ...          0  BENIGN\n",
       "4              54863               3  ...          0  BENIGN\n",
       "\n",
       "[5 rows x 79 columns]"
      ]
     },
     "metadata": {},
     "output_type": "display_data"
    }
   ],
   "source": [
    "import pandas as pd\n",
    "\n",
    "df0 = pd.read_csv(r'C:\\Users\\kirtan\\dataset\\MachineLearningCSV\\MachineLearningCVE\\Friday-WorkingHours-Afternoon-DDos.pcap_ISCX.csv')\n",
    "df1 = pd.read_csv(r'C:\\Users\\kirtan\\dataset\\MachineLearningCSV\\MachineLearningCVE\\Friday-WorkingHours-Afternoon-PortScan.pcap_ISCX.csv')\n",
    "df2 = pd.read_csv(r'C:\\Users\\kirtan\\dataset\\MachineLearningCSV\\MachineLearningCVE\\Friday-WorkingHours-Morning.pcap_ISCX.csv')\n",
    "df3 = pd.read_csv(r'C:\\Users\\kirtan\\dataset\\MachineLearningCSV\\MachineLearningCVE\\Monday-WorkingHours.pcap_ISCX.csv')\n",
    "df4 = pd.read_csv(r'C:\\Users\\kirtan\\dataset\\MachineLearningCSV\\MachineLearningCVE\\Thursday-WorkingHours-Afternoon-Infilteration.pcap_ISCX.csv')\n",
    "df5 = pd.read_csv(r'C:\\Users\\kirtan\\dataset\\MachineLearningCSV\\MachineLearningCVE\\Thursday-WorkingHours-Morning-WebAttacks.pcap_ISCX.csv')\n",
    "df6 = pd.read_csv(r'C:\\Users\\kirtan\\dataset\\MachineLearningCSV\\MachineLearningCVE\\Tuesday-WorkingHours.pcap_ISCX.csv')\n",
    "df7 = pd.read_csv(r'C:\\Users\\kirtan\\dataset\\MachineLearningCSV\\MachineLearningCVE\\Wednesday-workingHours.pcap_ISCX.csv')\n",
    "\n",
    "print(df0.shape)\n",
    "print(df1.shape)\n",
    "print(df2.shape)\n",
    "print(df3.shape)\n",
    "print(df4.shape)\n",
    "print(df5.shape)\n",
    "print(df6.shape)\n",
    "print(df7.shape)\n",
    "\n",
    "data = [df0,df1,df2,df3,df4,df5,df6,df7]\n",
    "df  = pd.concat(data)\n",
    "\n",
    "print(\"Read {} rows.\".format(len(df)))\n",
    "#df.dropna(inplace=True,axis=1)\n",
    "\n",
    "pd.set_option('display.max_columns', 5)\n",
    "pd.set_option('display.max_rows', 5)\n",
    "# display 5 rows\n",
    "display(df[0:5])"
   ]
  },
  {
   "cell_type": "code",
   "execution_count": 2,
   "metadata": {},
   "outputs": [],
   "source": [
    "df1 = df.sample(frac =.1)"
   ]
  },
  {
   "cell_type": "code",
   "execution_count": 3,
   "metadata": {},
   "outputs": [
    {
     "data": {
      "text/plain": [
       "(283074, 79)"
      ]
     },
     "execution_count": 3,
     "metadata": {},
     "output_type": "execute_result"
    }
   ],
   "source": [
    "df1.shape"
   ]
  },
  {
   "cell_type": "code",
   "execution_count": 4,
   "metadata": {},
   "outputs": [
    {
     "data": {
      "text/html": [
       "<div>\n",
       "<style scoped>\n",
       "    .dataframe tbody tr th:only-of-type {\n",
       "        vertical-align: middle;\n",
       "    }\n",
       "\n",
       "    .dataframe tbody tr th {\n",
       "        vertical-align: top;\n",
       "    }\n",
       "\n",
       "    .dataframe thead th {\n",
       "        text-align: right;\n",
       "    }\n",
       "</style>\n",
       "<table border=\"1\" class=\"dataframe\">\n",
       "  <thead>\n",
       "    <tr style=\"text-align: right;\">\n",
       "      <th></th>\n",
       "      <th>Destination Port</th>\n",
       "      <th>Flow Duration</th>\n",
       "      <th>...</th>\n",
       "      <th>Idle Min</th>\n",
       "      <th>Label</th>\n",
       "    </tr>\n",
       "  </thead>\n",
       "  <tbody>\n",
       "    <tr>\n",
       "      <th>103650</th>\n",
       "      <td>6112</td>\n",
       "      <td>68</td>\n",
       "      <td>...</td>\n",
       "      <td>0</td>\n",
       "      <td>PortScan</td>\n",
       "    </tr>\n",
       "    <tr>\n",
       "      <th>212301</th>\n",
       "      <td>443</td>\n",
       "      <td>180170</td>\n",
       "      <td>...</td>\n",
       "      <td>0</td>\n",
       "      <td>BENIGN</td>\n",
       "    </tr>\n",
       "    <tr>\n",
       "      <th>315687</th>\n",
       "      <td>63352</td>\n",
       "      <td>72</td>\n",
       "      <td>...</td>\n",
       "      <td>0</td>\n",
       "      <td>BENIGN</td>\n",
       "    </tr>\n",
       "    <tr>\n",
       "      <th>256852</th>\n",
       "      <td>53</td>\n",
       "      <td>278860</td>\n",
       "      <td>...</td>\n",
       "      <td>0</td>\n",
       "      <td>BENIGN</td>\n",
       "    </tr>\n",
       "    <tr>\n",
       "      <th>238696</th>\n",
       "      <td>53</td>\n",
       "      <td>73875</td>\n",
       "      <td>...</td>\n",
       "      <td>0</td>\n",
       "      <td>BENIGN</td>\n",
       "    </tr>\n",
       "  </tbody>\n",
       "</table>\n",
       "<p>5 rows × 79 columns</p>\n",
       "</div>"
      ],
      "text/plain": [
       "         Destination Port   Flow Duration  ...   Idle Min     Label\n",
       "103650               6112              68  ...          0  PortScan\n",
       "212301                443          180170  ...          0    BENIGN\n",
       "315687              63352              72  ...          0    BENIGN\n",
       "256852                 53          278860  ...          0    BENIGN\n",
       "238696                 53           73875  ...          0    BENIGN\n",
       "\n",
       "[5 rows x 79 columns]"
      ]
     },
     "metadata": {},
     "output_type": "display_data"
    }
   ],
   "source": [
    "display(df1[0:5])"
   ]
  },
  {
   "cell_type": "code",
   "execution_count": 5,
   "metadata": {},
   "outputs": [],
   "source": [
    "from sklearn.preprocessing import LabelEncoder\n",
    "lb = LabelEncoder()\n",
    "df1[' Label'] = lb.fit_transform(df1[' Label'])"
   ]
  },
  {
   "cell_type": "code",
   "execution_count": 6,
   "metadata": {},
   "outputs": [
    {
     "data": {
      "text/html": [
       "<div>\n",
       "<style scoped>\n",
       "    .dataframe tbody tr th:only-of-type {\n",
       "        vertical-align: middle;\n",
       "    }\n",
       "\n",
       "    .dataframe tbody tr th {\n",
       "        vertical-align: top;\n",
       "    }\n",
       "\n",
       "    .dataframe thead th {\n",
       "        text-align: right;\n",
       "    }\n",
       "</style>\n",
       "<table border=\"1\" class=\"dataframe\">\n",
       "  <thead>\n",
       "    <tr style=\"text-align: right;\">\n",
       "      <th></th>\n",
       "      <th>Destination Port</th>\n",
       "      <th>Flow Duration</th>\n",
       "      <th>...</th>\n",
       "      <th>Idle Min</th>\n",
       "      <th>Label</th>\n",
       "    </tr>\n",
       "  </thead>\n",
       "  <tbody>\n",
       "    <tr>\n",
       "      <th>103650</th>\n",
       "      <td>6112</td>\n",
       "      <td>68</td>\n",
       "      <td>...</td>\n",
       "      <td>0</td>\n",
       "      <td>9</td>\n",
       "    </tr>\n",
       "    <tr>\n",
       "      <th>212301</th>\n",
       "      <td>443</td>\n",
       "      <td>180170</td>\n",
       "      <td>...</td>\n",
       "      <td>0</td>\n",
       "      <td>0</td>\n",
       "    </tr>\n",
       "    <tr>\n",
       "      <th>315687</th>\n",
       "      <td>63352</td>\n",
       "      <td>72</td>\n",
       "      <td>...</td>\n",
       "      <td>0</td>\n",
       "      <td>0</td>\n",
       "    </tr>\n",
       "    <tr>\n",
       "      <th>256852</th>\n",
       "      <td>53</td>\n",
       "      <td>278860</td>\n",
       "      <td>...</td>\n",
       "      <td>0</td>\n",
       "      <td>0</td>\n",
       "    </tr>\n",
       "    <tr>\n",
       "      <th>238696</th>\n",
       "      <td>53</td>\n",
       "      <td>73875</td>\n",
       "      <td>...</td>\n",
       "      <td>0</td>\n",
       "      <td>0</td>\n",
       "    </tr>\n",
       "  </tbody>\n",
       "</table>\n",
       "<p>5 rows × 79 columns</p>\n",
       "</div>"
      ],
      "text/plain": [
       "         Destination Port   Flow Duration  ...   Idle Min   Label\n",
       "103650               6112              68  ...          0       9\n",
       "212301                443          180170  ...          0       0\n",
       "315687              63352              72  ...          0       0\n",
       "256852                 53          278860  ...          0       0\n",
       "238696                 53           73875  ...          0       0\n",
       "\n",
       "[5 rows x 79 columns]"
      ]
     },
     "metadata": {},
     "output_type": "display_data"
    }
   ],
   "source": [
    "display(df1[0:5])"
   ]
  },
  {
   "cell_type": "code",
   "execution_count": 7,
   "metadata": {},
   "outputs": [
    {
     "data": {
      "text/plain": [
       "(283074, 79)"
      ]
     },
     "execution_count": 7,
     "metadata": {},
     "output_type": "execute_result"
    }
   ],
   "source": [
    "df1.shape"
   ]
  },
  {
   "cell_type": "code",
   "execution_count": 8,
   "metadata": {},
   "outputs": [
    {
     "name": "stdout",
     "output_type": "stream",
     "text": [
      "{'BENIGN': 0, 'Bot': 1, 'DDoS': 2, 'DoS GoldenEye': 3, 'DoS Hulk': 4, 'DoS Slowhttptest': 5, 'DoS slowloris': 6, 'FTP-Patator': 7, 'Infiltration': 8, 'PortScan': 9, 'SSH-Patator': 10, 'Web Attack � Brute Force': 11, 'Web Attack � XSS': 12}\n"
     ]
    }
   ],
   "source": [
    "le_name_mapping = dict(zip(lb.classes_, lb.transform(lb.classes_)))\n",
    "print(le_name_mapping)"
   ]
  },
  {
   "cell_type": "code",
   "execution_count": 9,
   "metadata": {},
   "outputs": [
    {
     "name": "stdout",
     "output_type": "stream",
     "text": [
      " Destination Port , 0\n",
      " Flow Duration , 0\n",
      " Total Fwd Packets , 0\n",
      " Total Backward Packets , 0\n",
      "Total Length of Fwd Packets , 0\n",
      " Total Length of Bwd Packets , 0\n",
      " Fwd Packet Length Max , 0\n",
      " Fwd Packet Length Min , 0\n",
      " Fwd Packet Length Mean , 0\n",
      " Fwd Packet Length Std , 0\n",
      "Bwd Packet Length Max , 0\n",
      " Bwd Packet Length Min , 0\n",
      " Bwd Packet Length Mean , 0\n",
      " Bwd Packet Length Std , 0\n",
      "Flow Bytes/s , 127\n",
      " Flow Packets/s , 0\n",
      " Flow IAT Mean , 0\n",
      " Flow IAT Std , 0\n",
      " Flow IAT Max , 0\n",
      " Flow IAT Min , 0\n",
      "Fwd IAT Total , 0\n",
      " Fwd IAT Mean , 0\n",
      " Fwd IAT Std , 0\n",
      " Fwd IAT Max , 0\n",
      " Fwd IAT Min , 0\n",
      "Bwd IAT Total , 0\n",
      " Bwd IAT Mean , 0\n",
      " Bwd IAT Std , 0\n",
      " Bwd IAT Max , 0\n",
      " Bwd IAT Min , 0\n",
      "Fwd PSH Flags , 0\n",
      " Bwd PSH Flags , 0\n",
      " Fwd URG Flags , 0\n",
      " Bwd URG Flags , 0\n",
      " Fwd Header Length , 0\n",
      " Bwd Header Length , 0\n",
      "Fwd Packets/s , 0\n",
      " Bwd Packets/s , 0\n",
      " Min Packet Length , 0\n",
      " Max Packet Length , 0\n",
      " Packet Length Mean , 0\n",
      " Packet Length Std , 0\n",
      " Packet Length Variance , 0\n",
      "FIN Flag Count , 0\n",
      " SYN Flag Count , 0\n",
      " RST Flag Count , 0\n",
      " PSH Flag Count , 0\n",
      " ACK Flag Count , 0\n",
      " URG Flag Count , 0\n",
      " CWE Flag Count , 0\n",
      " ECE Flag Count , 0\n",
      " Down/Up Ratio , 0\n",
      " Average Packet Size , 0\n",
      " Avg Fwd Segment Size , 0\n",
      " Avg Bwd Segment Size , 0\n",
      " Fwd Header Length.1 , 0\n",
      "Fwd Avg Bytes/Bulk , 0\n",
      " Fwd Avg Packets/Bulk , 0\n",
      " Fwd Avg Bulk Rate , 0\n",
      " Bwd Avg Bytes/Bulk , 0\n",
      " Bwd Avg Packets/Bulk , 0\n",
      "Bwd Avg Bulk Rate , 0\n",
      "Subflow Fwd Packets , 0\n",
      " Subflow Fwd Bytes , 0\n",
      " Subflow Bwd Packets , 0\n",
      " Subflow Bwd Bytes , 0\n",
      "Init_Win_bytes_forward , 0\n",
      " Init_Win_bytes_backward , 0\n",
      " act_data_pkt_fwd , 0\n",
      " min_seg_size_forward , 0\n",
      "Active Mean , 0\n",
      " Active Std , 0\n",
      " Active Max , 0\n",
      " Active Min , 0\n",
      "Idle Mean , 0\n",
      " Idle Std , 0\n",
      " Idle Max , 0\n",
      " Idle Min , 0\n",
      " Label , 0\n"
     ]
    }
   ],
   "source": [
    "obj = df1.isna().sum()\n",
    "for key,value in obj.iteritems():\n",
    "    print(key,\",\",value)"
   ]
  },
  {
   "cell_type": "code",
   "execution_count": 10,
   "metadata": {},
   "outputs": [],
   "source": [
    "df1.dropna(inplace=True)"
   ]
  },
  {
   "cell_type": "code",
   "execution_count": 11,
   "metadata": {},
   "outputs": [
    {
     "name": "stdout",
     "output_type": "stream",
     "text": [
      " Destination Port , 0\n",
      " Flow Duration , 0\n",
      " Total Fwd Packets , 0\n",
      " Total Backward Packets , 0\n",
      "Total Length of Fwd Packets , 0\n",
      " Total Length of Bwd Packets , 0\n",
      " Fwd Packet Length Max , 0\n",
      " Fwd Packet Length Min , 0\n",
      " Fwd Packet Length Mean , 0\n",
      " Fwd Packet Length Std , 0\n",
      "Bwd Packet Length Max , 0\n",
      " Bwd Packet Length Min , 0\n",
      " Bwd Packet Length Mean , 0\n",
      " Bwd Packet Length Std , 0\n",
      "Flow Bytes/s , 0\n",
      " Flow Packets/s , 0\n",
      " Flow IAT Mean , 0\n",
      " Flow IAT Std , 0\n",
      " Flow IAT Max , 0\n",
      " Flow IAT Min , 0\n",
      "Fwd IAT Total , 0\n",
      " Fwd IAT Mean , 0\n",
      " Fwd IAT Std , 0\n",
      " Fwd IAT Max , 0\n",
      " Fwd IAT Min , 0\n",
      "Bwd IAT Total , 0\n",
      " Bwd IAT Mean , 0\n",
      " Bwd IAT Std , 0\n",
      " Bwd IAT Max , 0\n",
      " Bwd IAT Min , 0\n",
      "Fwd PSH Flags , 0\n",
      " Bwd PSH Flags , 0\n",
      " Fwd URG Flags , 0\n",
      " Bwd URG Flags , 0\n",
      " Fwd Header Length , 0\n",
      " Bwd Header Length , 0\n",
      "Fwd Packets/s , 0\n",
      " Bwd Packets/s , 0\n",
      " Min Packet Length , 0\n",
      " Max Packet Length , 0\n",
      " Packet Length Mean , 0\n",
      " Packet Length Std , 0\n",
      " Packet Length Variance , 0\n",
      "FIN Flag Count , 0\n",
      " SYN Flag Count , 0\n",
      " RST Flag Count , 0\n",
      " PSH Flag Count , 0\n",
      " ACK Flag Count , 0\n",
      " URG Flag Count , 0\n",
      " CWE Flag Count , 0\n",
      " ECE Flag Count , 0\n",
      " Down/Up Ratio , 0\n",
      " Average Packet Size , 0\n",
      " Avg Fwd Segment Size , 0\n",
      " Avg Bwd Segment Size , 0\n",
      " Fwd Header Length.1 , 0\n",
      "Fwd Avg Bytes/Bulk , 0\n",
      " Fwd Avg Packets/Bulk , 0\n",
      " Fwd Avg Bulk Rate , 0\n",
      " Bwd Avg Bytes/Bulk , 0\n",
      " Bwd Avg Packets/Bulk , 0\n",
      "Bwd Avg Bulk Rate , 0\n",
      "Subflow Fwd Packets , 0\n",
      " Subflow Fwd Bytes , 0\n",
      " Subflow Bwd Packets , 0\n",
      " Subflow Bwd Bytes , 0\n",
      "Init_Win_bytes_forward , 0\n",
      " Init_Win_bytes_backward , 0\n",
      " act_data_pkt_fwd , 0\n",
      " min_seg_size_forward , 0\n",
      "Active Mean , 0\n",
      " Active Std , 0\n",
      " Active Max , 0\n",
      " Active Min , 0\n",
      "Idle Mean , 0\n",
      " Idle Std , 0\n",
      " Idle Max , 0\n",
      " Idle Min , 0\n",
      " Label , 0\n"
     ]
    }
   ],
   "source": [
    "obj = df1.isnull().sum()\n",
    "for key,value in obj.iteritems():\n",
    "    print(key,\",\",value)"
   ]
  },
  {
   "cell_type": "code",
   "execution_count": 12,
   "metadata": {},
   "outputs": [
    {
     "data": {
      "text/plain": [
       "(282947, 79)"
      ]
     },
     "execution_count": 12,
     "metadata": {},
     "output_type": "execute_result"
    }
   ],
   "source": [
    "df1.shape"
   ]
  },
  {
   "cell_type": "code",
   "execution_count": 13,
   "metadata": {},
   "outputs": [
    {
     "name": "stdout",
     "output_type": "stream",
     "text": [
      "printing column name where infinity is present\n",
      "Flow Bytes/s          Flow Bytes/s\n",
      " Flow Packets/s     Flow Packets/s\n",
      "dtype: object\n"
     ]
    }
   ],
   "source": [
    "import numpy as np\n",
    "print(\"printing column name where infinity is present\")\n",
    "col_name = df1.columns.to_series()[np.isinf(df1).any()]\n",
    "print(col_name)"
   ]
  },
  {
   "cell_type": "code",
   "execution_count": 14,
   "metadata": {},
   "outputs": [],
   "source": [
    "df1.replace([np.inf,-np.inf],np.nan, inplace = True)"
   ]
  },
  {
   "cell_type": "code",
   "execution_count": 15,
   "metadata": {},
   "outputs": [],
   "source": [
    "df1.dropna(inplace=True)"
   ]
  },
  {
   "cell_type": "code",
   "execution_count": 16,
   "metadata": {},
   "outputs": [
    {
     "data": {
      "text/plain": [
       "(282793, 79)"
      ]
     },
     "execution_count": 16,
     "metadata": {},
     "output_type": "execute_result"
    }
   ],
   "source": [
    "df1.shape"
   ]
  },
  {
   "cell_type": "code",
   "execution_count": 17,
   "metadata": {},
   "outputs": [
    {
     "name": "stdout",
     "output_type": "stream",
     "text": [
      " Destination Port , 24139\n",
      " Flow Duration , 138405\n",
      " Total Fwd Packets , 474\n",
      " Total Backward Packets , 596\n",
      "Total Length of Fwd Packets , 6759\n",
      " Total Length of Bwd Packets , 15825\n",
      " Fwd Packet Length Max , 2996\n",
      " Fwd Packet Length Min , 191\n",
      " Fwd Packet Length Mean , 21800\n",
      " Fwd Packet Length Std , 37086\n",
      "Bwd Packet Length Max , 3359\n",
      " Bwd Packet Length Min , 401\n",
      " Bwd Packet Length Mean , 26807\n",
      " Bwd Packet Length Std , 34341\n",
      "Flow Bytes/s , 180748\n",
      " Flow Packets/s , 153453\n",
      " Flow IAT Mean , 146671\n",
      " Flow IAT Std , 119266\n",
      " Flow IAT Max , 95162\n",
      " Flow IAT Min , 27471\n",
      "Fwd IAT Total , 63953\n",
      " Fwd IAT Mean , 85899\n",
      " Fwd IAT Std , 76352\n",
      " Fwd IAT Max , 62549\n",
      " Fwd IAT Min , 20395\n",
      "Bwd IAT Total , 55756\n",
      " Bwd IAT Mean , 76433\n",
      " Bwd IAT Std , 72251\n",
      " Bwd IAT Max , 55274\n",
      " Bwd IAT Min , 10287\n",
      "Fwd PSH Flags , 2\n",
      " Bwd PSH Flags , 1\n",
      " Fwd URG Flags , 2\n",
      " Bwd URG Flags , 1\n",
      " Fwd Header Length , 1238\n",
      " Bwd Header Length , 1362\n",
      "Fwd Packets/s , 152429\n",
      " Bwd Packets/s , 138423\n",
      " Min Packet Length , 150\n",
      " Max Packet Length , 3835\n",
      " Packet Length Mean , 38265\n",
      " Packet Length Std , 57923\n",
      " Packet Length Variance , 57081\n",
      "FIN Flag Count , 2\n",
      " SYN Flag Count , 2\n",
      " RST Flag Count , 2\n",
      " PSH Flag Count , 2\n",
      " ACK Flag Count , 2\n",
      " URG Flag Count , 2\n",
      " CWE Flag Count , 2\n",
      " ECE Flag Count , 2\n",
      " Down/Up Ratio , 15\n",
      " Average Packet Size , 37371\n",
      " Avg Fwd Segment Size , 21800\n",
      " Avg Bwd Segment Size , 26807\n",
      " Fwd Header Length.1 , 1238\n",
      "Fwd Avg Bytes/Bulk , 1\n",
      " Fwd Avg Packets/Bulk , 1\n",
      " Fwd Avg Bulk Rate , 1\n",
      " Bwd Avg Bytes/Bulk , 1\n",
      " Bwd Avg Packets/Bulk , 1\n",
      "Bwd Avg Bulk Rate , 1\n",
      "Subflow Fwd Packets , 474\n",
      " Subflow Fwd Bytes , 6759\n",
      " Subflow Bwd Packets , 596\n",
      " Subflow Bwd Bytes , 15827\n",
      "Init_Win_bytes_forward , 4424\n",
      " Init_Win_bytes_backward , 4558\n",
      " act_data_pkt_fwd , 357\n",
      " min_seg_size_forward , 17\n",
      "Active Mean , 39076\n",
      " Active Std , 20489\n",
      " Active Max , 38550\n",
      " Active Min , 30114\n",
      "Idle Mean , 23936\n",
      " Idle Std , 20282\n",
      " Idle Max , 17907\n",
      " Idle Min , 27300\n",
      " Label , 13\n"
     ]
    }
   ],
   "source": [
    "obj = df1.nunique()\n",
    "for key,value in obj.iteritems():\n",
    "    print(key,\",\",value)"
   ]
  },
  {
   "cell_type": "code",
   "execution_count": 18,
   "metadata": {},
   "outputs": [],
   "source": [
    "obj = df1.nunique()\n",
    "L1 =[]\n",
    "L2=[]\n",
    "for key,value in obj.iteritems():\n",
    "  L1.append(key)\n",
    "  L2.append(value)\n",
    "  d = dict(zip(L1,L2))"
   ]
  },
  {
   "cell_type": "code",
   "execution_count": 19,
   "metadata": {},
   "outputs": [
    {
     "name": "stdout",
     "output_type": "stream",
     "text": [
      "{' Destination Port': 24139, ' Flow Duration': 138405, ' Total Fwd Packets': 474, ' Total Backward Packets': 596, 'Total Length of Fwd Packets': 6759, ' Total Length of Bwd Packets': 15825, ' Fwd Packet Length Max': 2996, ' Fwd Packet Length Min': 191, ' Fwd Packet Length Mean': 21800, ' Fwd Packet Length Std': 37086, 'Bwd Packet Length Max': 3359, ' Bwd Packet Length Min': 401, ' Bwd Packet Length Mean': 26807, ' Bwd Packet Length Std': 34341, 'Flow Bytes/s': 180748, ' Flow Packets/s': 153453, ' Flow IAT Mean': 146671, ' Flow IAT Std': 119266, ' Flow IAT Max': 95162, ' Flow IAT Min': 27471, 'Fwd IAT Total': 63953, ' Fwd IAT Mean': 85899, ' Fwd IAT Std': 76352, ' Fwd IAT Max': 62549, ' Fwd IAT Min': 20395, 'Bwd IAT Total': 55756, ' Bwd IAT Mean': 76433, ' Bwd IAT Std': 72251, ' Bwd IAT Max': 55274, ' Bwd IAT Min': 10287, 'Fwd PSH Flags': 2, ' Bwd PSH Flags': 1, ' Fwd URG Flags': 2, ' Bwd URG Flags': 1, ' Fwd Header Length': 1238, ' Bwd Header Length': 1362, 'Fwd Packets/s': 152429, ' Bwd Packets/s': 138423, ' Min Packet Length': 150, ' Max Packet Length': 3835, ' Packet Length Mean': 38265, ' Packet Length Std': 57923, ' Packet Length Variance': 57081, 'FIN Flag Count': 2, ' SYN Flag Count': 2, ' RST Flag Count': 2, ' PSH Flag Count': 2, ' ACK Flag Count': 2, ' URG Flag Count': 2, ' CWE Flag Count': 2, ' ECE Flag Count': 2, ' Down/Up Ratio': 15, ' Average Packet Size': 37371, ' Avg Fwd Segment Size': 21800, ' Avg Bwd Segment Size': 26807, ' Fwd Header Length.1': 1238, 'Fwd Avg Bytes/Bulk': 1, ' Fwd Avg Packets/Bulk': 1, ' Fwd Avg Bulk Rate': 1, ' Bwd Avg Bytes/Bulk': 1, ' Bwd Avg Packets/Bulk': 1, 'Bwd Avg Bulk Rate': 1, 'Subflow Fwd Packets': 474, ' Subflow Fwd Bytes': 6759, ' Subflow Bwd Packets': 596, ' Subflow Bwd Bytes': 15827, 'Init_Win_bytes_forward': 4424, ' Init_Win_bytes_backward': 4558, ' act_data_pkt_fwd': 357, ' min_seg_size_forward': 17, 'Active Mean': 39076, ' Active Std': 20489, ' Active Max': 38550, ' Active Min': 30114, 'Idle Mean': 23936, ' Idle Std': 20282, ' Idle Max': 17907, ' Idle Min': 27300, ' Label': 13}\n"
     ]
    }
   ],
   "source": [
    "print(d)"
   ]
  },
  {
   "cell_type": "code",
   "execution_count": 20,
   "metadata": {},
   "outputs": [],
   "source": [
    "dff = df1"
   ]
  },
  {
   "cell_type": "code",
   "execution_count": 21,
   "metadata": {},
   "outputs": [
    {
     "data": {
      "text/html": [
       "<div>\n",
       "<style scoped>\n",
       "    .dataframe tbody tr th:only-of-type {\n",
       "        vertical-align: middle;\n",
       "    }\n",
       "\n",
       "    .dataframe tbody tr th {\n",
       "        vertical-align: top;\n",
       "    }\n",
       "\n",
       "    .dataframe thead th {\n",
       "        text-align: right;\n",
       "    }\n",
       "</style>\n",
       "<table border=\"1\" class=\"dataframe\">\n",
       "  <thead>\n",
       "    <tr style=\"text-align: right;\">\n",
       "      <th></th>\n",
       "      <th>Destination Port</th>\n",
       "      <th>Flow Duration</th>\n",
       "      <th>...</th>\n",
       "      <th>Idle Min</th>\n",
       "      <th>Label</th>\n",
       "    </tr>\n",
       "  </thead>\n",
       "  <tbody>\n",
       "    <tr>\n",
       "      <th>103650</th>\n",
       "      <td>6112</td>\n",
       "      <td>68</td>\n",
       "      <td>...</td>\n",
       "      <td>0</td>\n",
       "      <td>9</td>\n",
       "    </tr>\n",
       "    <tr>\n",
       "      <th>212301</th>\n",
       "      <td>443</td>\n",
       "      <td>180170</td>\n",
       "      <td>...</td>\n",
       "      <td>0</td>\n",
       "      <td>0</td>\n",
       "    </tr>\n",
       "    <tr>\n",
       "      <th>315687</th>\n",
       "      <td>63352</td>\n",
       "      <td>72</td>\n",
       "      <td>...</td>\n",
       "      <td>0</td>\n",
       "      <td>0</td>\n",
       "    </tr>\n",
       "    <tr>\n",
       "      <th>256852</th>\n",
       "      <td>53</td>\n",
       "      <td>278860</td>\n",
       "      <td>...</td>\n",
       "      <td>0</td>\n",
       "      <td>0</td>\n",
       "    </tr>\n",
       "    <tr>\n",
       "      <th>238696</th>\n",
       "      <td>53</td>\n",
       "      <td>73875</td>\n",
       "      <td>...</td>\n",
       "      <td>0</td>\n",
       "      <td>0</td>\n",
       "    </tr>\n",
       "  </tbody>\n",
       "</table>\n",
       "<p>5 rows × 79 columns</p>\n",
       "</div>"
      ],
      "text/plain": [
       "         Destination Port   Flow Duration  ...   Idle Min   Label\n",
       "103650               6112              68  ...          0       9\n",
       "212301                443          180170  ...          0       0\n",
       "315687              63352              72  ...          0       0\n",
       "256852                 53          278860  ...          0       0\n",
       "238696                 53           73875  ...          0       0\n",
       "\n",
       "[5 rows x 79 columns]"
      ]
     },
     "metadata": {},
     "output_type": "display_data"
    }
   ],
   "source": [
    "display(dff[0:5])"
   ]
  },
  {
   "cell_type": "code",
   "execution_count": 22,
   "metadata": {},
   "outputs": [
    {
     "data": {
      "text/plain": [
       "(282793, 79)"
      ]
     },
     "execution_count": 22,
     "metadata": {},
     "output_type": "execute_result"
    }
   ],
   "source": [
    "dff.shape"
   ]
  },
  {
   "cell_type": "code",
   "execution_count": 23,
   "metadata": {},
   "outputs": [],
   "source": [
    "for i in d:\n",
    "  if d[i] == 1:\n",
    "    dff = dff.drop([i], axis = 'columns')"
   ]
  },
  {
   "cell_type": "code",
   "execution_count": 24,
   "metadata": {},
   "outputs": [
    {
     "name": "stdout",
     "output_type": "stream",
     "text": [
      "(282793, 79)\n",
      "(282793, 71)\n"
     ]
    }
   ],
   "source": [
    "print(df1.shape)\n",
    "print(dff.shape)\n"
   ]
  },
  {
   "cell_type": "code",
   "execution_count": 25,
   "metadata": {},
   "outputs": [
    {
     "data": {
      "text/html": [
       "<div>\n",
       "<style scoped>\n",
       "    .dataframe tbody tr th:only-of-type {\n",
       "        vertical-align: middle;\n",
       "    }\n",
       "\n",
       "    .dataframe tbody tr th {\n",
       "        vertical-align: top;\n",
       "    }\n",
       "\n",
       "    .dataframe thead th {\n",
       "        text-align: right;\n",
       "    }\n",
       "</style>\n",
       "<table border=\"1\" class=\"dataframe\">\n",
       "  <thead>\n",
       "    <tr style=\"text-align: right;\">\n",
       "      <th></th>\n",
       "      <th>Destination Port</th>\n",
       "      <th>Flow Duration</th>\n",
       "      <th>...</th>\n",
       "      <th>Idle Min</th>\n",
       "      <th>Label</th>\n",
       "    </tr>\n",
       "  </thead>\n",
       "  <tbody>\n",
       "    <tr>\n",
       "      <th>103650</th>\n",
       "      <td>6112</td>\n",
       "      <td>68</td>\n",
       "      <td>...</td>\n",
       "      <td>0</td>\n",
       "      <td>9</td>\n",
       "    </tr>\n",
       "    <tr>\n",
       "      <th>212301</th>\n",
       "      <td>443</td>\n",
       "      <td>180170</td>\n",
       "      <td>...</td>\n",
       "      <td>0</td>\n",
       "      <td>0</td>\n",
       "    </tr>\n",
       "    <tr>\n",
       "      <th>315687</th>\n",
       "      <td>63352</td>\n",
       "      <td>72</td>\n",
       "      <td>...</td>\n",
       "      <td>0</td>\n",
       "      <td>0</td>\n",
       "    </tr>\n",
       "    <tr>\n",
       "      <th>256852</th>\n",
       "      <td>53</td>\n",
       "      <td>278860</td>\n",
       "      <td>...</td>\n",
       "      <td>0</td>\n",
       "      <td>0</td>\n",
       "    </tr>\n",
       "    <tr>\n",
       "      <th>238696</th>\n",
       "      <td>53</td>\n",
       "      <td>73875</td>\n",
       "      <td>...</td>\n",
       "      <td>0</td>\n",
       "      <td>0</td>\n",
       "    </tr>\n",
       "  </tbody>\n",
       "</table>\n",
       "<p>5 rows × 71 columns</p>\n",
       "</div>"
      ],
      "text/plain": [
       "         Destination Port   Flow Duration  ...   Idle Min   Label\n",
       "103650               6112              68  ...          0       9\n",
       "212301                443          180170  ...          0       0\n",
       "315687              63352              72  ...          0       0\n",
       "256852                 53          278860  ...          0       0\n",
       "238696                 53           73875  ...          0       0\n",
       "\n",
       "[5 rows x 71 columns]"
      ]
     },
     "metadata": {},
     "output_type": "display_data"
    }
   ],
   "source": [
    "display(dff[0:5])"
   ]
  },
  {
   "cell_type": "code",
   "execution_count": 26,
   "metadata": {},
   "outputs": [],
   "source": [
    "#X = dff.drop([' Label'], axis='columns')\n",
    "#y = dff[' Label']"
   ]
  },
  {
   "cell_type": "code",
   "execution_count": 27,
   "metadata": {},
   "outputs": [
    {
     "name": "stdout",
     "output_type": "stream",
     "text": [
      "[[9.32659881e-02 6.66666639e-07 0.00000000e+00 ... 0.00000000e+00\n",
      "  0.00000000e+00 0.00000000e+00]\n",
      " [6.75995300e-03 1.50151660e-03 1.37743577e-04 ... 0.00000000e+00\n",
      "  0.00000000e+00 0.00000000e+00]\n",
      " [9.66719058e-01 6.99999971e-07 0.00000000e+00 ... 0.00000000e+00\n",
      "  0.00000000e+00 0.00000000e+00]\n",
      " ...\n",
      " [2.73144828e-03 4.66666647e-07 0.00000000e+00 ... 0.00000000e+00\n",
      "  0.00000000e+00 0.00000000e+00]\n",
      " [8.08752842e-04 6.13074974e-04 4.59145255e-06 ... 0.00000000e+00\n",
      "  0.00000000e+00 0.00000000e+00]\n",
      " [8.08752842e-04 4.13449983e-04 4.59145255e-06 ... 0.00000000e+00\n",
      "  0.00000000e+00 0.00000000e+00]]\n",
      "         Label\n",
      "103650       9\n",
      "212301       0\n",
      "...        ...\n",
      "418459       0\n",
      "70115        0\n",
      "\n",
      "[282793 rows x 1 columns]\n"
     ]
    }
   ],
   "source": [
    "from sklearn.preprocessing import MinMaxScaler\n",
    "y = dff[[' Label']]\n",
    "x = dff.drop([' Label', ], axis = 1)\n",
    "\n",
    "sc = MinMaxScaler()\n",
    "x = sc.fit_transform(x)\n",
    "\n",
    "print(x)\n",
    "print(y)"
   ]
  },
  {
   "cell_type": "code",
   "execution_count": null,
   "metadata": {},
   "outputs": [],
   "source": []
  },
  {
   "cell_type": "code",
   "execution_count": 28,
   "metadata": {},
   "outputs": [],
   "source": [
    "from sklearn.model_selection import train_test_split"
   ]
  },
  {
   "cell_type": "code",
   "execution_count": 29,
   "metadata": {},
   "outputs": [
    {
     "name": "stdout",
     "output_type": "stream",
     "text": [
      "(189471, 70) (93322, 70)\n",
      "(189471, 1) (93322, 1)\n"
     ]
    }
   ],
   "source": [
    "from sklearn.model_selection import train_test_split\n",
    "from sklearn.preprocessing import MinMaxScaler\n",
    "\n",
    "x_train, x_test, y_train, y_test = train_test_split(x, y, test_size = 0.33, random_state = 42)\n",
    "print(x_train.shape, x_test.shape)\n",
    "print(y_train.shape, y_test.shape)"
   ]
  },
  {
   "cell_type": "code",
   "execution_count": 30,
   "metadata": {},
   "outputs": [
    {
     "name": "stdout",
     "output_type": "stream",
     "text": [
      "\n",
      "------Accuracy------\n",
      "Train score is: 95.93288682700782\n",
      "Test score is: 95.96558153490066\n"
     ]
    }
   ],
   "source": [
    "from sklearn.tree import DecisionTreeClassifier\n",
    "  \n",
    "clfd = DecisionTreeClassifier(criterion =\"entropy\", max_depth = 4)\n",
    "clfd.fit(x_train, y_train.values.ravel())\n",
    "y_test_pred = clfd.predict(x_train)\n",
    "\n",
    "print()\n",
    "print(\"------Accuracy------\") \n",
    "print(\"Train score is:\", clfd.score(x_train, y_train)*100)\n",
    "print(\"Test score is:\", clfd.score(x_test, y_test)*100)\n",
    " "
   ]
  },
  {
   "cell_type": "code",
   "execution_count": null,
   "metadata": {},
   "outputs": [],
   "source": []
  },
  {
   "cell_type": "code",
   "execution_count": null,
   "metadata": {},
   "outputs": [],
   "source": []
  },
  {
   "cell_type": "code",
   "execution_count": null,
   "metadata": {},
   "outputs": [],
   "source": []
  },
  {
   "cell_type": "code",
   "execution_count": 31,
   "metadata": {},
   "outputs": [],
   "source": [
    "import pickle\n",
    "filename = 'DT_CICIDS_model.h5'\n",
    "pickle.dump(clfd, open(filename, 'wb'))"
   ]
  },
  {
   "cell_type": "code",
   "execution_count": null,
   "metadata": {},
   "outputs": [],
   "source": []
  }
 ],
 "metadata": {
  "kernelspec": {
   "display_name": "Python 3",
   "language": "python",
   "name": "python3"
  },
  "language_info": {
   "codemirror_mode": {
    "name": "ipython",
    "version": 3
   },
   "file_extension": ".py",
   "mimetype": "text/x-python",
   "name": "python",
   "nbconvert_exporter": "python",
   "pygments_lexer": "ipython3",
   "version": "3.8.5"
  }
 },
 "nbformat": 4,
 "nbformat_minor": 5
}
