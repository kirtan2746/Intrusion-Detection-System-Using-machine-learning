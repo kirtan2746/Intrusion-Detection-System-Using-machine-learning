{
 "cells": [
  {
   "cell_type": "code",
   "execution_count": 1,
   "metadata": {},
   "outputs": [],
   "source": [
    " from builtins import int \n",
    "\n",
    "import pandas as pd \n",
    "\n",
    "from sklearn.ensemble import RandomForestClassifier \n",
    "\n",
    "from sklearn.model_selection import cross_val_score \n",
    "\n",
    "from sklearn.metrics import classification_report, confusion_matrix, accuracy_score \n",
    "\n",
    "from sklearn.model_selection import train_test_split \n",
    "\n",
    "from sklearn.impute import SimpleImputer \n",
    "\n",
    "from sklearn import preprocessing, metrics \n",
    "\n",
    "import numpy as np \n",
    "\n",
    "import time \n",
    "\n",
    "from sklearn.neighbors import KNeighborsClassifier \n",
    "\n",
    "from sklearn import tree "
   ]
  },
  {
   "cell_type": "code",
   "execution_count": 2,
   "metadata": {},
   "outputs": [],
   "source": [
    "from sklearn.preprocessing import StandardScaler, LabelEncoder, MinMaxScaler \n",
    "\n",
    "starttime=time.time() \n",
    "\n",
    "lbl = LabelEncoder() \n",
    "\n",
    "mmsc = MinMaxScaler() \n",
    "\n",
    "dat=r'C:\\Users\\kirtan\\dataset\\MachineLearningCSV\\MachineLearningCVE/Thursday-WorkingHours-Morning-WebAttacks.pcap_ISCX.csv'\n",
    "dataset = pd.read_csv(dat)"
   ]
  },
  {
   "cell_type": "code",
   "execution_count": 3,
   "metadata": {},
   "outputs": [],
   "source": [
    "dataset1 = pd.read_csv(dat) \n",
    "\n",
    "dataset1=dataset1.replace('BENIGN',0) \n",
    "\n",
    "dataset1=dataset1.replace('Web Attack � Brute Force',1) \n",
    "\n",
    "dataset1=dataset1.replace('Web Attack � XSS',2) \n",
    "\n",
    "dataset1=dataset1.replace('Web Attack � Sql Injection',3) \n",
    "\n",
    " "
   ]
  },
  {
   "cell_type": "code",
   "execution_count": 4,
   "metadata": {},
   "outputs": [],
   "source": [
    "dataset1=dataset1.astype(np.float32) "
   ]
  },
  {
   "cell_type": "code",
   "execution_count": 13,
   "metadata": {},
   "outputs": [],
   "source": [
    "dataset1 = dataset1.replace([np.inf, -np.inf], np.nan) \n",
    "\n",
    "dataset1.fillna(9999, inplace=True)"
   ]
  },
  {
   "cell_type": "code",
   "execution_count": 17,
   "metadata": {},
   "outputs": [],
   "source": [
    "X = dataset1.iloc[:,0:77].values \n",
    "\n",
    "y = dataset1.iloc[:,77].values \n",
    "X_train, X_test, y_train, y_test = train_test_split(X, y,random_state=10) \n",
    "\n",
    " "
   ]
  },
  {
   "cell_type": "code",
   "execution_count": 18,
   "metadata": {},
   "outputs": [
    {
     "name": "stdout",
     "output_type": "stream",
     "text": [
      "\n",
      "------Accuracy------\n",
      "The Accuracy Score :86.12180691209616\n",
      "\n"
     ]
    }
   ],
   "source": [
    "\"KNeighborsClassifier Model\"\n",
    "KNN_Classifier = KNeighborsClassifier(n_neighbors=3)\n",
    "KNN_Classifier.fit(X_train, y_train); \n",
    "pred = KNN_Classifier.predict(X_test)\n",
    "\n",
    "\n",
    "\n",
    "print()\n",
    "print(\"------Accuracy------\")\n",
    "print(f\"The Accuracy Score :{(accuracy_score(pred,y_test)*100)}\")\n",
    "print()"
   ]
  },
  {
   "cell_type": "code",
   "execution_count": 19,
   "metadata": {},
   "outputs": [],
   "source": [
    "import pickle"
   ]
  },
  {
   "cell_type": "code",
   "execution_count": 20,
   "metadata": {},
   "outputs": [],
   "source": [
    "filename='KNN_CICIDS_MODEL.h5'\n",
    "pickle.dump(KNN_Classifier,open(filename,'wb'))"
   ]
  },
  {
   "cell_type": "code",
   "execution_count": null,
   "metadata": {},
   "outputs": [],
   "source": []
  }
 ],
 "metadata": {
  "kernelspec": {
   "display_name": "Python 3",
   "language": "python",
   "name": "python3"
  },
  "language_info": {
   "codemirror_mode": {
    "name": "ipython",
    "version": 3
   },
   "file_extension": ".py",
   "mimetype": "text/x-python",
   "name": "python",
   "nbconvert_exporter": "python",
   "pygments_lexer": "ipython3",
   "version": "3.8.5"
  }
 },
 "nbformat": 4,
 "nbformat_minor": 4
}
