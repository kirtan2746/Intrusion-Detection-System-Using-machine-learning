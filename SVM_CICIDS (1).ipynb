{
 "cells": [
  {
   "cell_type": "code",
   "execution_count": 1,
   "id": "04531989",
   "metadata": {},
   "outputs": [
    {
     "name": "stdout",
     "output_type": "stream",
     "text": [
      "(225745, 79)\n",
      "(286467, 79)\n",
      "(191033, 79)\n",
      "(529918, 79)\n",
      "(288602, 79)\n",
      "(170366, 79)\n",
      "(445909, 79)\n",
      "(692703, 79)\n",
      "Read 2830743 rows.\n"
     ]
    },
    {
     "data": {
      "text/html": [
       "<div>\n",
       "<style scoped>\n",
       "    .dataframe tbody tr th:only-of-type {\n",
       "        vertical-align: middle;\n",
       "    }\n",
       "\n",
       "    .dataframe tbody tr th {\n",
       "        vertical-align: top;\n",
       "    }\n",
       "\n",
       "    .dataframe thead th {\n",
       "        text-align: right;\n",
       "    }\n",
       "</style>\n",
       "<table border=\"1\" class=\"dataframe\">\n",
       "  <thead>\n",
       "    <tr style=\"text-align: right;\">\n",
       "      <th></th>\n",
       "      <th>Destination Port</th>\n",
       "      <th>Flow Duration</th>\n",
       "      <th>...</th>\n",
       "      <th>Idle Min</th>\n",
       "      <th>Label</th>\n",
       "    </tr>\n",
       "  </thead>\n",
       "  <tbody>\n",
       "    <tr>\n",
       "      <th>0</th>\n",
       "      <td>54865</td>\n",
       "      <td>3</td>\n",
       "      <td>...</td>\n",
       "      <td>0</td>\n",
       "      <td>BENIGN</td>\n",
       "    </tr>\n",
       "    <tr>\n",
       "      <th>1</th>\n",
       "      <td>55054</td>\n",
       "      <td>109</td>\n",
       "      <td>...</td>\n",
       "      <td>0</td>\n",
       "      <td>BENIGN</td>\n",
       "    </tr>\n",
       "    <tr>\n",
       "      <th>2</th>\n",
       "      <td>55055</td>\n",
       "      <td>52</td>\n",
       "      <td>...</td>\n",
       "      <td>0</td>\n",
       "      <td>BENIGN</td>\n",
       "    </tr>\n",
       "    <tr>\n",
       "      <th>3</th>\n",
       "      <td>46236</td>\n",
       "      <td>34</td>\n",
       "      <td>...</td>\n",
       "      <td>0</td>\n",
       "      <td>BENIGN</td>\n",
       "    </tr>\n",
       "    <tr>\n",
       "      <th>4</th>\n",
       "      <td>54863</td>\n",
       "      <td>3</td>\n",
       "      <td>...</td>\n",
       "      <td>0</td>\n",
       "      <td>BENIGN</td>\n",
       "    </tr>\n",
       "  </tbody>\n",
       "</table>\n",
       "<p>5 rows × 79 columns</p>\n",
       "</div>"
      ],
      "text/plain": [
       "    Destination Port   Flow Duration  ...   Idle Min   Label\n",
       "0              54865               3  ...          0  BENIGN\n",
       "1              55054             109  ...          0  BENIGN\n",
       "2              55055              52  ...          0  BENIGN\n",
       "3              46236              34  ...          0  BENIGN\n",
       "4              54863               3  ...          0  BENIGN\n",
       "\n",
       "[5 rows x 79 columns]"
      ]
     },
     "metadata": {},
     "output_type": "display_data"
    }
   ],
   "source": [
    "import pandas as pd\n",
    "\n",
    "df0 = pd.read_csv(r'C:\\Users\\abhiw\\Desktop\\Final Project\\data\\cicids2017\\MachineLearningCSV\\MachineLearningCVE\\Friday-WorkingHours-Afternoon-DDos.pcap_ISCX.csv')\n",
    "df1 = pd.read_csv(r'C:\\Users\\abhiw\\Desktop\\Final Project\\data\\cicids2017\\MachineLearningCSV\\MachineLearningCVE\\Friday-WorkingHours-Afternoon-PortScan.pcap_ISCX.csv')\n",
    "df2 = pd.read_csv(r'C:\\Users\\abhiw\\Desktop\\Final Project\\data\\cicids2017\\MachineLearningCSV\\MachineLearningCVE\\Friday-WorkingHours-Morning.pcap_ISCX.csv')\n",
    "df3 = pd.read_csv(r'C:\\Users\\abhiw\\Desktop\\Final Project\\data\\cicids2017\\MachineLearningCSV\\MachineLearningCVE\\Monday-WorkingHours.pcap_ISCX.csv')\n",
    "df4 = pd.read_csv(r'C:\\Users\\abhiw\\Desktop\\Final Project\\data\\cicids2017\\MachineLearningCSV\\MachineLearningCVE\\Thursday-WorkingHours-Afternoon-Infilteration.pcap_ISCX.csv')\n",
    "df5 = pd.read_csv(r'C:\\Users\\abhiw\\Desktop\\Final Project\\data\\cicids2017\\MachineLearningCSV\\MachineLearningCVE\\Thursday-WorkingHours-Morning-WebAttacks.pcap_ISCX.csv')\n",
    "df6 = pd.read_csv(r'C:\\Users\\abhiw\\Desktop\\Final Project\\data\\cicids2017\\MachineLearningCSV\\MachineLearningCVE\\Tuesday-WorkingHours.pcap_ISCX.csv')\n",
    "df7 = pd.read_csv(r'C:\\Users\\abhiw\\Desktop\\Final Project\\data\\cicids2017\\MachineLearningCSV\\MachineLearningCVE\\Wednesday-workingHours.pcap_ISCX.csv')\n",
    "\n",
    "print(df0.shape)\n",
    "print(df1.shape)\n",
    "print(df2.shape)\n",
    "print(df3.shape)\n",
    "print(df4.shape)\n",
    "print(df5.shape)\n",
    "print(df6.shape)\n",
    "print(df7.shape)\n",
    "\n",
    "data = [df0,df1,df2,df3,df4,df5,df6,df7]\n",
    "df  = pd.concat(data)\n",
    "\n",
    "print(\"Read {} rows.\".format(len(df)))\n",
    "#df.dropna(inplace=True,axis=1)\n",
    "\n",
    "pd.set_option('display.max_columns', 5)\n",
    "pd.set_option('display.max_rows', 5)\n",
    "# display 5 rows\n",
    "display(df[0:5])"
   ]
  },
  {
   "cell_type": "code",
   "execution_count": 2,
   "id": "92daca14",
   "metadata": {},
   "outputs": [],
   "source": [
    "df1 = df.sample(frac =.1)"
   ]
  },
  {
   "cell_type": "code",
   "execution_count": 3,
   "id": "f50c2292",
   "metadata": {},
   "outputs": [
    {
     "data": {
      "text/plain": [
       "(283074, 79)"
      ]
     },
     "execution_count": 3,
     "metadata": {},
     "output_type": "execute_result"
    }
   ],
   "source": [
    "df1.shape"
   ]
  },
  {
   "cell_type": "code",
   "execution_count": 4,
   "id": "6c2b2367",
   "metadata": {},
   "outputs": [
    {
     "data": {
      "text/html": [
       "<div>\n",
       "<style scoped>\n",
       "    .dataframe tbody tr th:only-of-type {\n",
       "        vertical-align: middle;\n",
       "    }\n",
       "\n",
       "    .dataframe tbody tr th {\n",
       "        vertical-align: top;\n",
       "    }\n",
       "\n",
       "    .dataframe thead th {\n",
       "        text-align: right;\n",
       "    }\n",
       "</style>\n",
       "<table border=\"1\" class=\"dataframe\">\n",
       "  <thead>\n",
       "    <tr style=\"text-align: right;\">\n",
       "      <th></th>\n",
       "      <th>Destination Port</th>\n",
       "      <th>Flow Duration</th>\n",
       "      <th>...</th>\n",
       "      <th>Idle Min</th>\n",
       "      <th>Label</th>\n",
       "    </tr>\n",
       "  </thead>\n",
       "  <tbody>\n",
       "    <tr>\n",
       "      <th>215752</th>\n",
       "      <td>80</td>\n",
       "      <td>5576902</td>\n",
       "      <td>...</td>\n",
       "      <td>0</td>\n",
       "      <td>BENIGN</td>\n",
       "    </tr>\n",
       "    <tr>\n",
       "      <th>46819</th>\n",
       "      <td>80</td>\n",
       "      <td>1696438</td>\n",
       "      <td>...</td>\n",
       "      <td>0</td>\n",
       "      <td>BENIGN</td>\n",
       "    </tr>\n",
       "    <tr>\n",
       "      <th>32529</th>\n",
       "      <td>53</td>\n",
       "      <td>30930</td>\n",
       "      <td>...</td>\n",
       "      <td>0</td>\n",
       "      <td>BENIGN</td>\n",
       "    </tr>\n",
       "    <tr>\n",
       "      <th>475179</th>\n",
       "      <td>53</td>\n",
       "      <td>397</td>\n",
       "      <td>...</td>\n",
       "      <td>0</td>\n",
       "      <td>BENIGN</td>\n",
       "    </tr>\n",
       "    <tr>\n",
       "      <th>40284</th>\n",
       "      <td>443</td>\n",
       "      <td>5817653</td>\n",
       "      <td>...</td>\n",
       "      <td>5619210</td>\n",
       "      <td>BENIGN</td>\n",
       "    </tr>\n",
       "  </tbody>\n",
       "</table>\n",
       "<p>5 rows × 79 columns</p>\n",
       "</div>"
      ],
      "text/plain": [
       "         Destination Port   Flow Duration  ...   Idle Min   Label\n",
       "215752                 80         5576902  ...          0  BENIGN\n",
       "46819                  80         1696438  ...          0  BENIGN\n",
       "32529                  53           30930  ...          0  BENIGN\n",
       "475179                 53             397  ...          0  BENIGN\n",
       "40284                 443         5817653  ...    5619210  BENIGN\n",
       "\n",
       "[5 rows x 79 columns]"
      ]
     },
     "metadata": {},
     "output_type": "display_data"
    }
   ],
   "source": [
    "display(df1[0:5])"
   ]
  },
  {
   "cell_type": "code",
   "execution_count": 5,
   "id": "b8532d99",
   "metadata": {},
   "outputs": [],
   "source": [
    "from sklearn.preprocessing import LabelEncoder\n",
    "lb = LabelEncoder()\n",
    "df1[' Label'] = lb.fit_transform(df1[' Label'])"
   ]
  },
  {
   "cell_type": "code",
   "execution_count": 6,
   "id": "a9627299",
   "metadata": {},
   "outputs": [
    {
     "data": {
      "text/html": [
       "<div>\n",
       "<style scoped>\n",
       "    .dataframe tbody tr th:only-of-type {\n",
       "        vertical-align: middle;\n",
       "    }\n",
       "\n",
       "    .dataframe tbody tr th {\n",
       "        vertical-align: top;\n",
       "    }\n",
       "\n",
       "    .dataframe thead th {\n",
       "        text-align: right;\n",
       "    }\n",
       "</style>\n",
       "<table border=\"1\" class=\"dataframe\">\n",
       "  <thead>\n",
       "    <tr style=\"text-align: right;\">\n",
       "      <th></th>\n",
       "      <th>Destination Port</th>\n",
       "      <th>Flow Duration</th>\n",
       "      <th>...</th>\n",
       "      <th>Idle Min</th>\n",
       "      <th>Label</th>\n",
       "    </tr>\n",
       "  </thead>\n",
       "  <tbody>\n",
       "    <tr>\n",
       "      <th>215752</th>\n",
       "      <td>80</td>\n",
       "      <td>5576902</td>\n",
       "      <td>...</td>\n",
       "      <td>0</td>\n",
       "      <td>0</td>\n",
       "    </tr>\n",
       "    <tr>\n",
       "      <th>46819</th>\n",
       "      <td>80</td>\n",
       "      <td>1696438</td>\n",
       "      <td>...</td>\n",
       "      <td>0</td>\n",
       "      <td>0</td>\n",
       "    </tr>\n",
       "    <tr>\n",
       "      <th>32529</th>\n",
       "      <td>53</td>\n",
       "      <td>30930</td>\n",
       "      <td>...</td>\n",
       "      <td>0</td>\n",
       "      <td>0</td>\n",
       "    </tr>\n",
       "    <tr>\n",
       "      <th>475179</th>\n",
       "      <td>53</td>\n",
       "      <td>397</td>\n",
       "      <td>...</td>\n",
       "      <td>0</td>\n",
       "      <td>0</td>\n",
       "    </tr>\n",
       "    <tr>\n",
       "      <th>40284</th>\n",
       "      <td>443</td>\n",
       "      <td>5817653</td>\n",
       "      <td>...</td>\n",
       "      <td>5619210</td>\n",
       "      <td>0</td>\n",
       "    </tr>\n",
       "  </tbody>\n",
       "</table>\n",
       "<p>5 rows × 79 columns</p>\n",
       "</div>"
      ],
      "text/plain": [
       "         Destination Port   Flow Duration  ...   Idle Min   Label\n",
       "215752                 80         5576902  ...          0       0\n",
       "46819                  80         1696438  ...          0       0\n",
       "32529                  53           30930  ...          0       0\n",
       "475179                 53             397  ...          0       0\n",
       "40284                 443         5817653  ...    5619210       0\n",
       "\n",
       "[5 rows x 79 columns]"
      ]
     },
     "metadata": {},
     "output_type": "display_data"
    }
   ],
   "source": [
    "display(df1[0:5])"
   ]
  },
  {
   "cell_type": "code",
   "execution_count": 7,
   "id": "e2414f21",
   "metadata": {},
   "outputs": [
    {
     "data": {
      "text/plain": [
       "(283074, 79)"
      ]
     },
     "execution_count": 7,
     "metadata": {},
     "output_type": "execute_result"
    }
   ],
   "source": [
    "df1.shape"
   ]
  },
  {
   "cell_type": "code",
   "execution_count": 8,
   "id": "2883e3ee",
   "metadata": {},
   "outputs": [
    {
     "name": "stdout",
     "output_type": "stream",
     "text": [
      "{'BENIGN': 0, 'Bot': 1, 'DDoS': 2, 'DoS GoldenEye': 3, 'DoS Hulk': 4, 'DoS Slowhttptest': 5, 'DoS slowloris': 6, 'FTP-Patator': 7, 'Heartbleed': 8, 'Infiltration': 9, 'PortScan': 10, 'SSH-Patator': 11, 'Web Attack � Brute Force': 12, 'Web Attack � Sql Injection': 13, 'Web Attack � XSS': 14}\n"
     ]
    }
   ],
   "source": [
    "le_name_mapping = dict(zip(lb.classes_, lb.transform(lb.classes_)))\n",
    "print(le_name_mapping)"
   ]
  },
  {
   "cell_type": "code",
   "execution_count": 9,
   "id": "8d5e8ca2",
   "metadata": {},
   "outputs": [
    {
     "name": "stdout",
     "output_type": "stream",
     "text": [
      " Destination Port , 0\n",
      " Flow Duration , 0\n",
      " Total Fwd Packets , 0\n",
      " Total Backward Packets , 0\n",
      "Total Length of Fwd Packets , 0\n",
      " Total Length of Bwd Packets , 0\n",
      " Fwd Packet Length Max , 0\n",
      " Fwd Packet Length Min , 0\n",
      " Fwd Packet Length Mean , 0\n",
      " Fwd Packet Length Std , 0\n",
      "Bwd Packet Length Max , 0\n",
      " Bwd Packet Length Min , 0\n",
      " Bwd Packet Length Mean , 0\n",
      " Bwd Packet Length Std , 0\n",
      "Flow Bytes/s , 127\n",
      " Flow Packets/s , 0\n",
      " Flow IAT Mean , 0\n",
      " Flow IAT Std , 0\n",
      " Flow IAT Max , 0\n",
      " Flow IAT Min , 0\n",
      "Fwd IAT Total , 0\n",
      " Fwd IAT Mean , 0\n",
      " Fwd IAT Std , 0\n",
      " Fwd IAT Max , 0\n",
      " Fwd IAT Min , 0\n",
      "Bwd IAT Total , 0\n",
      " Bwd IAT Mean , 0\n",
      " Bwd IAT Std , 0\n",
      " Bwd IAT Max , 0\n",
      " Bwd IAT Min , 0\n",
      "Fwd PSH Flags , 0\n",
      " Bwd PSH Flags , 0\n",
      " Fwd URG Flags , 0\n",
      " Bwd URG Flags , 0\n",
      " Fwd Header Length , 0\n",
      " Bwd Header Length , 0\n",
      "Fwd Packets/s , 0\n",
      " Bwd Packets/s , 0\n",
      " Min Packet Length , 0\n",
      " Max Packet Length , 0\n",
      " Packet Length Mean , 0\n",
      " Packet Length Std , 0\n",
      " Packet Length Variance , 0\n",
      "FIN Flag Count , 0\n",
      " SYN Flag Count , 0\n",
      " RST Flag Count , 0\n",
      " PSH Flag Count , 0\n",
      " ACK Flag Count , 0\n",
      " URG Flag Count , 0\n",
      " CWE Flag Count , 0\n",
      " ECE Flag Count , 0\n",
      " Down/Up Ratio , 0\n",
      " Average Packet Size , 0\n",
      " Avg Fwd Segment Size , 0\n",
      " Avg Bwd Segment Size , 0\n",
      " Fwd Header Length.1 , 0\n",
      "Fwd Avg Bytes/Bulk , 0\n",
      " Fwd Avg Packets/Bulk , 0\n",
      " Fwd Avg Bulk Rate , 0\n",
      " Bwd Avg Bytes/Bulk , 0\n",
      " Bwd Avg Packets/Bulk , 0\n",
      "Bwd Avg Bulk Rate , 0\n",
      "Subflow Fwd Packets , 0\n",
      " Subflow Fwd Bytes , 0\n",
      " Subflow Bwd Packets , 0\n",
      " Subflow Bwd Bytes , 0\n",
      "Init_Win_bytes_forward , 0\n",
      " Init_Win_bytes_backward , 0\n",
      " act_data_pkt_fwd , 0\n",
      " min_seg_size_forward , 0\n",
      "Active Mean , 0\n",
      " Active Std , 0\n",
      " Active Max , 0\n",
      " Active Min , 0\n",
      "Idle Mean , 0\n",
      " Idle Std , 0\n",
      " Idle Max , 0\n",
      " Idle Min , 0\n",
      " Label , 0\n"
     ]
    }
   ],
   "source": [
    "obj = df1.isna().sum()\n",
    "for key,value in obj.iteritems():\n",
    "    print(key,\",\",value)"
   ]
  },
  {
   "cell_type": "code",
   "execution_count": 10,
   "id": "fb68a571",
   "metadata": {},
   "outputs": [],
   "source": [
    "df1.dropna(inplace=True)"
   ]
  },
  {
   "cell_type": "code",
   "execution_count": 11,
   "id": "f2ddc553",
   "metadata": {},
   "outputs": [
    {
     "name": "stdout",
     "output_type": "stream",
     "text": [
      " Destination Port , 0\n",
      " Flow Duration , 0\n",
      " Total Fwd Packets , 0\n",
      " Total Backward Packets , 0\n",
      "Total Length of Fwd Packets , 0\n",
      " Total Length of Bwd Packets , 0\n",
      " Fwd Packet Length Max , 0\n",
      " Fwd Packet Length Min , 0\n",
      " Fwd Packet Length Mean , 0\n",
      " Fwd Packet Length Std , 0\n",
      "Bwd Packet Length Max , 0\n",
      " Bwd Packet Length Min , 0\n",
      " Bwd Packet Length Mean , 0\n",
      " Bwd Packet Length Std , 0\n",
      "Flow Bytes/s , 0\n",
      " Flow Packets/s , 0\n",
      " Flow IAT Mean , 0\n",
      " Flow IAT Std , 0\n",
      " Flow IAT Max , 0\n",
      " Flow IAT Min , 0\n",
      "Fwd IAT Total , 0\n",
      " Fwd IAT Mean , 0\n",
      " Fwd IAT Std , 0\n",
      " Fwd IAT Max , 0\n",
      " Fwd IAT Min , 0\n",
      "Bwd IAT Total , 0\n",
      " Bwd IAT Mean , 0\n",
      " Bwd IAT Std , 0\n",
      " Bwd IAT Max , 0\n",
      " Bwd IAT Min , 0\n",
      "Fwd PSH Flags , 0\n",
      " Bwd PSH Flags , 0\n",
      " Fwd URG Flags , 0\n",
      " Bwd URG Flags , 0\n",
      " Fwd Header Length , 0\n",
      " Bwd Header Length , 0\n",
      "Fwd Packets/s , 0\n",
      " Bwd Packets/s , 0\n",
      " Min Packet Length , 0\n",
      " Max Packet Length , 0\n",
      " Packet Length Mean , 0\n",
      " Packet Length Std , 0\n",
      " Packet Length Variance , 0\n",
      "FIN Flag Count , 0\n",
      " SYN Flag Count , 0\n",
      " RST Flag Count , 0\n",
      " PSH Flag Count , 0\n",
      " ACK Flag Count , 0\n",
      " URG Flag Count , 0\n",
      " CWE Flag Count , 0\n",
      " ECE Flag Count , 0\n",
      " Down/Up Ratio , 0\n",
      " Average Packet Size , 0\n",
      " Avg Fwd Segment Size , 0\n",
      " Avg Bwd Segment Size , 0\n",
      " Fwd Header Length.1 , 0\n",
      "Fwd Avg Bytes/Bulk , 0\n",
      " Fwd Avg Packets/Bulk , 0\n",
      " Fwd Avg Bulk Rate , 0\n",
      " Bwd Avg Bytes/Bulk , 0\n",
      " Bwd Avg Packets/Bulk , 0\n",
      "Bwd Avg Bulk Rate , 0\n",
      "Subflow Fwd Packets , 0\n",
      " Subflow Fwd Bytes , 0\n",
      " Subflow Bwd Packets , 0\n",
      " Subflow Bwd Bytes , 0\n",
      "Init_Win_bytes_forward , 0\n",
      " Init_Win_bytes_backward , 0\n",
      " act_data_pkt_fwd , 0\n",
      " min_seg_size_forward , 0\n",
      "Active Mean , 0\n",
      " Active Std , 0\n",
      " Active Max , 0\n",
      " Active Min , 0\n",
      "Idle Mean , 0\n",
      " Idle Std , 0\n",
      " Idle Max , 0\n",
      " Idle Min , 0\n",
      " Label , 0\n"
     ]
    }
   ],
   "source": [
    "obj = df1.isnull().sum()\n",
    "for key,value in obj.iteritems():\n",
    "    print(key,\",\",value)"
   ]
  },
  {
   "cell_type": "code",
   "execution_count": 12,
   "id": "8eed04f5",
   "metadata": {},
   "outputs": [
    {
     "data": {
      "text/plain": [
       "(282947, 79)"
      ]
     },
     "execution_count": 12,
     "metadata": {},
     "output_type": "execute_result"
    }
   ],
   "source": [
    "df1.shape"
   ]
  },
  {
   "cell_type": "code",
   "execution_count": 13,
   "id": "7fb74df4",
   "metadata": {},
   "outputs": [
    {
     "name": "stdout",
     "output_type": "stream",
     "text": [
      "printing column name where infinity is present\n",
      "Flow Bytes/s          Flow Bytes/s\n",
      " Flow Packets/s     Flow Packets/s\n",
      "dtype: object\n"
     ]
    }
   ],
   "source": [
    "import numpy as np\n",
    "print(\"printing column name where infinity is present\")\n",
    "col_name = df1.columns.to_series()[np.isinf(df1).any()]\n",
    "print(col_name)"
   ]
  },
  {
   "cell_type": "code",
   "execution_count": 14,
   "id": "9cdd6c44",
   "metadata": {},
   "outputs": [],
   "source": [
    "df1.replace([np.inf,-np.inf],np.nan, inplace = True)"
   ]
  },
  {
   "cell_type": "code",
   "execution_count": 15,
   "id": "a4e8cd06",
   "metadata": {},
   "outputs": [],
   "source": [
    "df1.dropna(inplace=True)"
   ]
  },
  {
   "cell_type": "code",
   "execution_count": 16,
   "id": "763c0f8c",
   "metadata": {},
   "outputs": [
    {
     "data": {
      "text/plain": [
       "(282776, 79)"
      ]
     },
     "execution_count": 16,
     "metadata": {},
     "output_type": "execute_result"
    }
   ],
   "source": [
    "df1.shape"
   ]
  },
  {
   "cell_type": "code",
   "execution_count": 17,
   "id": "00e35944",
   "metadata": {},
   "outputs": [
    {
     "name": "stdout",
     "output_type": "stream",
     "text": [
      " Destination Port , 24250\n",
      " Flow Duration , 138327\n",
      " Total Fwd Packets , 474\n",
      " Total Backward Packets , 604\n",
      "Total Length of Fwd Packets , 6774\n",
      " Total Length of Bwd Packets , 15898\n",
      " Fwd Packet Length Max , 3095\n",
      " Fwd Packet Length Min , 195\n",
      " Fwd Packet Length Mean , 21879\n",
      " Fwd Packet Length Std , 37326\n",
      "Bwd Packet Length Max , 3358\n",
      " Bwd Packet Length Min , 408\n",
      " Bwd Packet Length Mean , 26861\n",
      " Bwd Packet Length Std , 34437\n",
      "Flow Bytes/s , 180626\n",
      " Flow Packets/s , 153333\n",
      " Flow IAT Mean , 146371\n",
      " Flow IAT Std , 118781\n",
      " Flow IAT Max , 95379\n",
      " Flow IAT Min , 27808\n",
      "Fwd IAT Total , 63864\n",
      " Fwd IAT Mean , 85797\n",
      " Fwd IAT Std , 76056\n",
      " Fwd IAT Max , 62605\n",
      " Fwd IAT Min , 20550\n",
      "Bwd IAT Total , 55449\n",
      " Bwd IAT Mean , 76056\n",
      " Bwd IAT Std , 71871\n",
      " Bwd IAT Max , 55049\n",
      " Bwd IAT Min , 10374\n",
      "Fwd PSH Flags , 2\n",
      " Bwd PSH Flags , 1\n",
      " Fwd URG Flags , 2\n",
      " Bwd URG Flags , 1\n",
      " Fwd Header Length , 1258\n",
      " Bwd Header Length , 1363\n",
      "Fwd Packets/s , 152314\n",
      " Bwd Packets/s , 138064\n",
      " Min Packet Length , 151\n",
      " Max Packet Length , 3893\n",
      " Packet Length Mean , 38480\n",
      " Packet Length Std , 57935\n",
      " Packet Length Variance , 57067\n",
      "FIN Flag Count , 2\n",
      " SYN Flag Count , 2\n",
      " RST Flag Count , 2\n",
      " PSH Flag Count , 2\n",
      " ACK Flag Count , 2\n",
      " URG Flag Count , 2\n",
      " CWE Flag Count , 2\n",
      " ECE Flag Count , 2\n",
      " Down/Up Ratio , 14\n",
      " Average Packet Size , 37251\n",
      " Avg Fwd Segment Size , 21879\n",
      " Avg Bwd Segment Size , 26861\n",
      " Fwd Header Length.1 , 1258\n",
      "Fwd Avg Bytes/Bulk , 1\n",
      " Fwd Avg Packets/Bulk , 1\n",
      " Fwd Avg Bulk Rate , 1\n",
      " Bwd Avg Bytes/Bulk , 1\n",
      " Bwd Avg Packets/Bulk , 1\n",
      "Bwd Avg Bulk Rate , 1\n",
      "Subflow Fwd Packets , 474\n",
      " Subflow Fwd Bytes , 6774\n",
      " Subflow Bwd Packets , 604\n",
      " Subflow Bwd Bytes , 15899\n",
      "Init_Win_bytes_forward , 4395\n",
      " Init_Win_bytes_backward , 4473\n",
      " act_data_pkt_fwd , 369\n",
      " min_seg_size_forward , 20\n",
      "Active Mean , 39447\n",
      " Active Std , 20486\n",
      " Active Max , 38930\n",
      " Active Min , 30324\n",
      "Idle Mean , 24168\n",
      " Idle Std , 20289\n",
      " Idle Max , 18348\n",
      " Idle Min , 27588\n",
      " Label , 15\n"
     ]
    }
   ],
   "source": [
    "obj = df1.nunique()\n",
    "for key,value in obj.iteritems():\n",
    "    print(key,\",\",value)"
   ]
  },
  {
   "cell_type": "code",
   "execution_count": 18,
   "id": "8dbfd98e",
   "metadata": {},
   "outputs": [],
   "source": [
    "obj = df1.nunique()\n",
    "L1 =[]\n",
    "L2=[]\n",
    "for key,value in obj.iteritems():\n",
    "  L1.append(key)\n",
    "  L2.append(value)\n",
    "  d = dict(zip(L1,L2))"
   ]
  },
  {
   "cell_type": "code",
   "execution_count": 19,
   "id": "711aa861",
   "metadata": {},
   "outputs": [
    {
     "name": "stdout",
     "output_type": "stream",
     "text": [
      "{' Destination Port': 24250, ' Flow Duration': 138327, ' Total Fwd Packets': 474, ' Total Backward Packets': 604, 'Total Length of Fwd Packets': 6774, ' Total Length of Bwd Packets': 15898, ' Fwd Packet Length Max': 3095, ' Fwd Packet Length Min': 195, ' Fwd Packet Length Mean': 21879, ' Fwd Packet Length Std': 37326, 'Bwd Packet Length Max': 3358, ' Bwd Packet Length Min': 408, ' Bwd Packet Length Mean': 26861, ' Bwd Packet Length Std': 34437, 'Flow Bytes/s': 180626, ' Flow Packets/s': 153333, ' Flow IAT Mean': 146371, ' Flow IAT Std': 118781, ' Flow IAT Max': 95379, ' Flow IAT Min': 27808, 'Fwd IAT Total': 63864, ' Fwd IAT Mean': 85797, ' Fwd IAT Std': 76056, ' Fwd IAT Max': 62605, ' Fwd IAT Min': 20550, 'Bwd IAT Total': 55449, ' Bwd IAT Mean': 76056, ' Bwd IAT Std': 71871, ' Bwd IAT Max': 55049, ' Bwd IAT Min': 10374, 'Fwd PSH Flags': 2, ' Bwd PSH Flags': 1, ' Fwd URG Flags': 2, ' Bwd URG Flags': 1, ' Fwd Header Length': 1258, ' Bwd Header Length': 1363, 'Fwd Packets/s': 152314, ' Bwd Packets/s': 138064, ' Min Packet Length': 151, ' Max Packet Length': 3893, ' Packet Length Mean': 38480, ' Packet Length Std': 57935, ' Packet Length Variance': 57067, 'FIN Flag Count': 2, ' SYN Flag Count': 2, ' RST Flag Count': 2, ' PSH Flag Count': 2, ' ACK Flag Count': 2, ' URG Flag Count': 2, ' CWE Flag Count': 2, ' ECE Flag Count': 2, ' Down/Up Ratio': 14, ' Average Packet Size': 37251, ' Avg Fwd Segment Size': 21879, ' Avg Bwd Segment Size': 26861, ' Fwd Header Length.1': 1258, 'Fwd Avg Bytes/Bulk': 1, ' Fwd Avg Packets/Bulk': 1, ' Fwd Avg Bulk Rate': 1, ' Bwd Avg Bytes/Bulk': 1, ' Bwd Avg Packets/Bulk': 1, 'Bwd Avg Bulk Rate': 1, 'Subflow Fwd Packets': 474, ' Subflow Fwd Bytes': 6774, ' Subflow Bwd Packets': 604, ' Subflow Bwd Bytes': 15899, 'Init_Win_bytes_forward': 4395, ' Init_Win_bytes_backward': 4473, ' act_data_pkt_fwd': 369, ' min_seg_size_forward': 20, 'Active Mean': 39447, ' Active Std': 20486, ' Active Max': 38930, ' Active Min': 30324, 'Idle Mean': 24168, ' Idle Std': 20289, ' Idle Max': 18348, ' Idle Min': 27588, ' Label': 15}\n"
     ]
    }
   ],
   "source": [
    "print(d)"
   ]
  },
  {
   "cell_type": "code",
   "execution_count": 20,
   "id": "5bc89176",
   "metadata": {},
   "outputs": [],
   "source": [
    "dff = df1"
   ]
  },
  {
   "cell_type": "code",
   "execution_count": 21,
   "id": "22f124a9",
   "metadata": {},
   "outputs": [
    {
     "data": {
      "text/html": [
       "<div>\n",
       "<style scoped>\n",
       "    .dataframe tbody tr th:only-of-type {\n",
       "        vertical-align: middle;\n",
       "    }\n",
       "\n",
       "    .dataframe tbody tr th {\n",
       "        vertical-align: top;\n",
       "    }\n",
       "\n",
       "    .dataframe thead th {\n",
       "        text-align: right;\n",
       "    }\n",
       "</style>\n",
       "<table border=\"1\" class=\"dataframe\">\n",
       "  <thead>\n",
       "    <tr style=\"text-align: right;\">\n",
       "      <th></th>\n",
       "      <th>Destination Port</th>\n",
       "      <th>Flow Duration</th>\n",
       "      <th>...</th>\n",
       "      <th>Idle Min</th>\n",
       "      <th>Label</th>\n",
       "    </tr>\n",
       "  </thead>\n",
       "  <tbody>\n",
       "    <tr>\n",
       "      <th>215752</th>\n",
       "      <td>80</td>\n",
       "      <td>5576902</td>\n",
       "      <td>...</td>\n",
       "      <td>0</td>\n",
       "      <td>0</td>\n",
       "    </tr>\n",
       "    <tr>\n",
       "      <th>46819</th>\n",
       "      <td>80</td>\n",
       "      <td>1696438</td>\n",
       "      <td>...</td>\n",
       "      <td>0</td>\n",
       "      <td>0</td>\n",
       "    </tr>\n",
       "    <tr>\n",
       "      <th>32529</th>\n",
       "      <td>53</td>\n",
       "      <td>30930</td>\n",
       "      <td>...</td>\n",
       "      <td>0</td>\n",
       "      <td>0</td>\n",
       "    </tr>\n",
       "    <tr>\n",
       "      <th>475179</th>\n",
       "      <td>53</td>\n",
       "      <td>397</td>\n",
       "      <td>...</td>\n",
       "      <td>0</td>\n",
       "      <td>0</td>\n",
       "    </tr>\n",
       "    <tr>\n",
       "      <th>40284</th>\n",
       "      <td>443</td>\n",
       "      <td>5817653</td>\n",
       "      <td>...</td>\n",
       "      <td>5619210</td>\n",
       "      <td>0</td>\n",
       "    </tr>\n",
       "  </tbody>\n",
       "</table>\n",
       "<p>5 rows × 79 columns</p>\n",
       "</div>"
      ],
      "text/plain": [
       "         Destination Port   Flow Duration  ...   Idle Min   Label\n",
       "215752                 80         5576902  ...          0       0\n",
       "46819                  80         1696438  ...          0       0\n",
       "32529                  53           30930  ...          0       0\n",
       "475179                 53             397  ...          0       0\n",
       "40284                 443         5817653  ...    5619210       0\n",
       "\n",
       "[5 rows x 79 columns]"
      ]
     },
     "metadata": {},
     "output_type": "display_data"
    }
   ],
   "source": [
    "display(dff[0:5])"
   ]
  },
  {
   "cell_type": "code",
   "execution_count": 22,
   "id": "cf34a99e",
   "metadata": {},
   "outputs": [
    {
     "data": {
      "text/plain": [
       "(282776, 79)"
      ]
     },
     "execution_count": 22,
     "metadata": {},
     "output_type": "execute_result"
    }
   ],
   "source": [
    "dff.shape"
   ]
  },
  {
   "cell_type": "code",
   "execution_count": 23,
   "id": "12950647",
   "metadata": {},
   "outputs": [],
   "source": [
    "for i in d:\n",
    "  if d[i] == 1:\n",
    "    dff = dff.drop([i], axis = 'columns')"
   ]
  },
  {
   "cell_type": "code",
   "execution_count": 24,
   "id": "43d0cd82",
   "metadata": {},
   "outputs": [
    {
     "name": "stdout",
     "output_type": "stream",
     "text": [
      "(282776, 79)\n",
      "(282776, 71)\n"
     ]
    }
   ],
   "source": [
    "print(df1.shape)\n",
    "print(dff.shape)\n"
   ]
  },
  {
   "cell_type": "code",
   "execution_count": 25,
   "id": "054d4f42",
   "metadata": {},
   "outputs": [
    {
     "data": {
      "text/html": [
       "<div>\n",
       "<style scoped>\n",
       "    .dataframe tbody tr th:only-of-type {\n",
       "        vertical-align: middle;\n",
       "    }\n",
       "\n",
       "    .dataframe tbody tr th {\n",
       "        vertical-align: top;\n",
       "    }\n",
       "\n",
       "    .dataframe thead th {\n",
       "        text-align: right;\n",
       "    }\n",
       "</style>\n",
       "<table border=\"1\" class=\"dataframe\">\n",
       "  <thead>\n",
       "    <tr style=\"text-align: right;\">\n",
       "      <th></th>\n",
       "      <th>Destination Port</th>\n",
       "      <th>Flow Duration</th>\n",
       "      <th>...</th>\n",
       "      <th>Idle Min</th>\n",
       "      <th>Label</th>\n",
       "    </tr>\n",
       "  </thead>\n",
       "  <tbody>\n",
       "    <tr>\n",
       "      <th>215752</th>\n",
       "      <td>80</td>\n",
       "      <td>5576902</td>\n",
       "      <td>...</td>\n",
       "      <td>0</td>\n",
       "      <td>0</td>\n",
       "    </tr>\n",
       "    <tr>\n",
       "      <th>46819</th>\n",
       "      <td>80</td>\n",
       "      <td>1696438</td>\n",
       "      <td>...</td>\n",
       "      <td>0</td>\n",
       "      <td>0</td>\n",
       "    </tr>\n",
       "    <tr>\n",
       "      <th>32529</th>\n",
       "      <td>53</td>\n",
       "      <td>30930</td>\n",
       "      <td>...</td>\n",
       "      <td>0</td>\n",
       "      <td>0</td>\n",
       "    </tr>\n",
       "    <tr>\n",
       "      <th>475179</th>\n",
       "      <td>53</td>\n",
       "      <td>397</td>\n",
       "      <td>...</td>\n",
       "      <td>0</td>\n",
       "      <td>0</td>\n",
       "    </tr>\n",
       "    <tr>\n",
       "      <th>40284</th>\n",
       "      <td>443</td>\n",
       "      <td>5817653</td>\n",
       "      <td>...</td>\n",
       "      <td>5619210</td>\n",
       "      <td>0</td>\n",
       "    </tr>\n",
       "  </tbody>\n",
       "</table>\n",
       "<p>5 rows × 71 columns</p>\n",
       "</div>"
      ],
      "text/plain": [
       "         Destination Port   Flow Duration  ...   Idle Min   Label\n",
       "215752                 80         5576902  ...          0       0\n",
       "46819                  80         1696438  ...          0       0\n",
       "32529                  53           30930  ...          0       0\n",
       "475179                 53             397  ...          0       0\n",
       "40284                 443         5817653  ...    5619210       0\n",
       "\n",
       "[5 rows x 71 columns]"
      ]
     },
     "metadata": {},
     "output_type": "display_data"
    }
   ],
   "source": [
    "display(dff[0:5])"
   ]
  },
  {
   "cell_type": "code",
   "execution_count": null,
   "id": "35621421",
   "metadata": {},
   "outputs": [],
   "source": [
    "#X = dff.drop([' Label'], axis='columns')\n",
    "#y = dff[' Label']"
   ]
  },
  {
   "cell_type": "code",
   "execution_count": 27,
   "id": "d2d454c5",
   "metadata": {},
   "outputs": [
    {
     "name": "stdout",
     "output_type": "stream",
     "text": [
      "[[1.22072175e-03 4.64741921e-02 9.96244160e-06 ... 0.00000000e+00\n",
      "  0.00000000e+00 0.00000000e+00]\n",
      " [1.22072175e-03 1.41369918e-02 2.14192494e-04 ... 0.00000000e+00\n",
      "  0.00000000e+00 0.00000000e+00]\n",
      " [8.08728161e-04 2.57758335e-04 4.98122080e-06 ... 0.00000000e+00\n",
      "  0.00000000e+00 0.00000000e+00]\n",
      " ...\n",
      " [7.50362402e-01 4.16666670e-08 4.98122080e-06 ... 0.00000000e+00\n",
      "  0.00000000e+00 0.00000000e+00]\n",
      " [8.08728161e-04 2.15000002e-06 4.98122080e-06 ... 0.00000000e+00\n",
      "  0.00000000e+00 0.00000000e+00]\n",
      " [8.08728161e-04 1.94166668e-06 4.98122080e-06 ... 0.00000000e+00\n",
      "  0.00000000e+00 0.00000000e+00]]\n",
      "         Label\n",
      "215752       0\n",
      "46819        0\n",
      "...        ...\n",
      "3808         0\n",
      "373310       0\n",
      "\n",
      "[282776 rows x 1 columns]\n"
     ]
    }
   ],
   "source": [
    "from sklearn.preprocessing import MinMaxScaler\n",
    "y = dff[[' Label']]\n",
    "x = dff.drop([' Label', ], axis = 1)\n",
    "\n",
    "sc = MinMaxScaler()\n",
    "x = sc.fit_transform(x)\n",
    "\n",
    "print(x)\n",
    "print(y)"
   ]
  },
  {
   "cell_type": "code",
   "execution_count": null,
   "id": "5d8b2d8a",
   "metadata": {},
   "outputs": [],
   "source": []
  },
  {
   "cell_type": "code",
   "execution_count": 28,
   "id": "c98f9280",
   "metadata": {},
   "outputs": [],
   "source": [
    "from sklearn.model_selection import train_test_split"
   ]
  },
  {
   "cell_type": "code",
   "execution_count": 29,
   "id": "50f64a2f",
   "metadata": {},
   "outputs": [
    {
     "name": "stdout",
     "output_type": "stream",
     "text": [
      "(189459, 70) (93317, 70)\n",
      "(189459, 1) (93317, 1)\n"
     ]
    }
   ],
   "source": [
    "from sklearn.model_selection import train_test_split\n",
    "from sklearn.preprocessing import MinMaxScaler\n",
    "\n",
    "x_train, x_test, y_train, y_test = train_test_split(x, y, test_size = 0.33, random_state = 42)\n",
    "print(x_train.shape, x_test.shape)\n",
    "print(y_train.shape, y_test.shape)"
   ]
  },
  {
   "cell_type": "code",
   "execution_count": 31,
   "id": "20312bbb",
   "metadata": {},
   "outputs": [
    {
     "data": {
      "text/plain": [
       "SVC()"
      ]
     },
     "execution_count": 31,
     "metadata": {},
     "output_type": "execute_result"
    }
   ],
   "source": [
    "from sklearn.svm import SVC\n",
    "  \n",
    "model = SVC(gamma = 'scale', kernal = 'rbf')\n",
    "#start_time = time.time()\n",
    "model.fit(x_train, y_train.values.ravel())\n",
    "#end_time = time.time()\n",
    "#print(\"Training time: \", end_time-start_time)"
   ]
  },
  {
   "cell_type": "code",
   "execution_count": 34,
   "id": "4d21529d",
   "metadata": {},
   "outputs": [],
   "source": [
    "y_test_pred = model.predict(x_train)"
   ]
  },
  {
   "cell_type": "code",
   "execution_count": 35,
   "id": "b080d65a",
   "metadata": {},
   "outputs": [
    {
     "name": "stdout",
     "output_type": "stream",
     "text": [
      "Train score is: 0.949076053394138\n",
      "Test score is: 0.9497947855160367\n"
     ]
    }
   ],
   "source": [
    "print(\"Train score is:\", model.score(x_train, y_train))\n",
    "print(\"Test score is:\", model.score(x_test, y_test))"
   ]
  },
  {
   "cell_type": "code",
   "execution_count": 36,
   "id": "9503c6aa",
   "metadata": {},
   "outputs": [
    {
     "ename": "AttributeError",
     "evalue": "'SVC' object has no attribute 'save'",
     "output_type": "error",
     "traceback": [
      "\u001b[1;31m---------------------------------------------------------------------------\u001b[0m",
      "\u001b[1;31mAttributeError\u001b[0m                            Traceback (most recent call last)",
      "\u001b[1;32m<ipython-input-36-9d558634f4ed>\u001b[0m in \u001b[0;36m<module>\u001b[1;34m\u001b[0m\n\u001b[1;32m----> 1\u001b[1;33m \u001b[0mmodel\u001b[0m\u001b[1;33m.\u001b[0m\u001b[0msave\u001b[0m\u001b[1;33m(\u001b[0m\u001b[0mos\u001b[0m\u001b[1;33m.\u001b[0m\u001b[0mpath\u001b[0m\u001b[1;33m.\u001b[0m\u001b[0mjoin\u001b[0m\u001b[1;33m(\u001b[0m\u001b[1;34mr\"C:\\Users\\abhiw\\Desktop\\Final Project\\SVM_CICIDS_MODEL.h5\"\u001b[0m\u001b[1;33m)\u001b[0m\u001b[1;33m)\u001b[0m\u001b[1;33m\u001b[0m\u001b[1;33m\u001b[0m\u001b[0m\n\u001b[0m",
      "\u001b[1;31mAttributeError\u001b[0m: 'SVC' object has no attribute 'save'"
     ]
    }
   ],
   "source": [
    "model.save(os.path.join(r\"C:\\Users\\abhiw\\Desktop\\Final Project\\SVM_CICIDS_MODEL.h5\"))"
   ]
  },
  {
   "cell_type": "code",
   "execution_count": 37,
   "id": "55519e24",
   "metadata": {},
   "outputs": [],
   "source": [
    "import pickle\n",
    "filename = 'SVM_CICIDS_model.h5'\n",
    "pickle.dump(model, open(filename, 'wb'))"
   ]
  },
  {
   "cell_type": "code",
   "execution_count": null,
   "id": "abb57cc2",
   "metadata": {},
   "outputs": [],
   "source": []
  }
 ],
 "metadata": {
  "kernelspec": {
   "display_name": "Python 3.7 (tensorflow)",
   "language": "python",
   "name": "tensorflow"
  },
  "language_info": {
   "codemirror_mode": {
    "name": "ipython",
    "version": 3
   },
   "file_extension": ".py",
   "mimetype": "text/x-python",
   "name": "python",
   "nbconvert_exporter": "python",
   "pygments_lexer": "ipython3",
   "version": "3.7.10"
  }
 },
 "nbformat": 4,
 "nbformat_minor": 5
}
